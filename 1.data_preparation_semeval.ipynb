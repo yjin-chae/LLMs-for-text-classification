{
 "cells": [
  {
   "cell_type": "code",
   "execution_count": 1,
   "metadata": {},
   "outputs": [],
   "source": [
    "import pandas as pd\n",
    "from sklearn.model_selection import train_test_split\n",
    "import os\n",
    "\n",
    "data = pd.read_csv(\"data/original/semeval_2016.csv\", encoding='unicode_escape')"
   ]
  },
  {
   "cell_type": "markdown",
   "metadata": {},
   "source": [
    "## Preparing training data for Semeval"
   ]
  },
  {
   "cell_type": "code",
   "execution_count": 2,
   "metadata": {},
   "outputs": [],
   "source": [
    "data['prompt'] = data['Tweet'].str.replace(\"#SemST\", \"\").str.strip()\n",
    "data['completion'] = data['Target'].apply(lambda row: row.split(\" \")[-1].strip()) + \", \" + data['Stance'].str.title()\n",
    "\n",
    "trump = pd.DataFrame({\n",
    "    'Target':data.loc[data['Target'].str.strip() == \"Donald Trump\", 'Target'],\n",
    "    'prompt':data.loc[data['Target'].str.strip() == \"Donald Trump\", 'prompt'],\n",
    "    'completion':data.loc[data['Target'].str.strip() == \"Donald Trump\", 'completion']\n",
    "})\n",
    "\n",
    "clinton = pd.DataFrame({\n",
    "    'Target':data.loc[data['Target'].str.strip() == \"Hillary Clinton\", 'Target'],\n",
    "    'prompt':data.loc[data['Target'].str.strip() == \"Hillary Clinton\", 'prompt'],\n",
    "    'completion':data.loc[data['Target'].str.strip() == \"Hillary Clinton\", 'completion']\n",
    "})\n",
    "\n",
    "# Train test split\n",
    "trump_train, trump_test = train_test_split(trump, test_size=0.2)\n",
    "clinton_train, clinton_test = train_test_split(clinton, test_size=0.2)\n",
    "\n",
    "train_10 = pd.concat([trump_train[:5], clinton_train[:5]], axis=0).sample(frac=1, replace=False)\n",
    "train_90 = pd.concat([trump_train[5:50], clinton_train[5:50]], axis=0).sample(frac=1, replace=False)\n",
    "train_100 = pd.concat([train_10, train_90], axis=0)\n",
    "train_rest = pd.concat([trump_train[50:], clinton_train[50:]],axis=0).sample(frac=1, replace=False)\n",
    "train_all = pd.concat([train_100, train_rest], axis=0).reset_index(drop=True)\n",
    "\n",
    "test = pd.concat([clinton_test, trump_test], axis=0).reset_index(drop=True)\n",
    "\n",
    "train_all.loc[:,[\"prompt\", \"completion\"]].to_csv(\"data/semeval_train.csv\", index=False)\n",
    "test.loc[:,[\"prompt\", \"completion\"]].to_csv(\"data/semeval_test.csv\", index=False)"
   ]
  },
  {
   "cell_type": "markdown",
   "metadata": {},
   "source": [
    "# Few-shot examples generation"
   ]
  },
  {
   "cell_type": "code",
   "execution_count": 7,
   "metadata": {},
   "outputs": [],
   "source": [
    "train_exemplar_trump = train_all.loc[train_all[\"Target\"] == \"Donald Trump\",:].sample(100, replace=False).reset_index(drop=True)\n",
    "train_exemplar_trump['prompt_t'] = \"Example:\\n\" + train_exemplar_trump['prompt'] + \"\\n\" + train_exemplar_trump['completion'] + \"\\n\"\n",
    "\n",
    "train_exemplar_clinton = train_all.loc[train_all[\"Target\"] == \"Hillary Clinton\",:].sample(100, replace=False).reset_index(drop=True)\n",
    "train_exemplar_clinton['prompt_c'] = \"Example:\\n\" + train_exemplar_clinton['prompt'] + \"\\n\" + train_exemplar_clinton['completion'] + \"\\n\"\n",
    "\n",
    "train_exemplar = pd.concat([train_exemplar_trump, train_exemplar_clinton],axis=1).drop(columns=\"prompt\")\n",
    "train_exemplar[\"prompt\"] = train_exemplar[\"prompt_t\"] + train_exemplar[\"prompt_c\"]\n",
    "train_exemplar[\"prompt\"].to_csv(\"data/semeval_train_exemplar.csv\", index=False)"
   ]
  },
  {
   "cell_type": "markdown",
   "metadata": {},
   "source": [
    "## Fine-tuning data for GPT3 Ada, Davinci"
   ]
  },
  {
   "cell_type": "code",
   "execution_count": 8,
   "metadata": {},
   "outputs": [],
   "source": [
    "import openai\n",
    "\n",
    "if not os.path.exists(\"data/openai\"):\n",
    "    os.makedirs(\"data/openai\")\n",
    "\n",
    "def formatter(df: pd.DataFrame):\n",
    "    output = df.copy()\n",
    "    output['prompt'] = df['prompt'] + \"\\nTarget, Stance:\"\n",
    "    output['completion'] = \" \" + df['completion'] + \"\\n\"\n",
    "\n",
    "    return output"
   ]
  },
  {
   "cell_type": "markdown",
   "metadata": {},
   "source": [
    "### Reformat according to GPT3 fine-tuning requirement"
   ]
  },
  {
   "cell_type": "code",
   "execution_count": 9,
   "metadata": {},
   "outputs": [],
   "source": [
    "train_openai = formatter(train_all)\n",
    "test_openai = formatter(test)\n",
    "test_openai.loc[:,[\"prompt\", \"completion\"]].to_csv(\"data/openai/semeval_gpt3_test.csv\", index=False)"
   ]
  },
  {
   "cell_type": "code",
   "execution_count": 10,
   "metadata": {},
   "outputs": [],
   "source": [
    "semeval_gpt3 = train_openai.loc[:,[\"Target\", \"prompt\", \"completion\"]]\n",
    "semeval_gpt3_10 = semeval_gpt3[:10]\n",
    "semeval_gpt3_100 = semeval_gpt3[:100]\n",
    "semeval_gpt3_all = train_openai.loc[:,[\"prompt\", \"completion\"]]\n",
    "\n",
    "semeval_gpt3_10.to_json(\"data/openai/semeval_gpt3_10.jsonl\", orient='records', lines=True)\n",
    "semeval_gpt3_100.to_json(\"data/openai/semeval_gpt3_100.jsonl\", orient='records', lines=True)\n",
    "semeval_gpt3_all.to_json(\"data/openai/semeval_gpt3_all.jsonl\", orient='records', lines=True)"
   ]
  },
  {
   "cell_type": "code",
   "execution_count": null,
   "metadata": {},
   "outputs": [],
   "source": [
    "# Upload data for fine-tuning\n",
    "openai.File.create(file=open(\"data/openai/semeval_gpt3_10.jsonl\"), user_provided_filename=\"semeval_gpt3_10\", purpose=\"fine-tune\") \n",
    "openai.File.create(file=open(\"data/openai/semeval_gpt3_100.jsonl\"), user_provided_filename=\"semeval_gpt3_100\", purpose=\"fine-tune\") \n",
    "openai.File.create(file=open(\"data/openai/semeval_gpt3_all.jsonl\"), user_provided_filename=\"semeval_gpt3_all\", purpose=\"fine-tune\") \n",
    "\n",
    "openai.File.list()"
   ]
  }
 ],
 "metadata": {
  "kernelspec": {
   "display_name": "hf",
   "language": "python",
   "name": "python3"
  },
  "language_info": {
   "codemirror_mode": {
    "name": "ipython",
    "version": 3
   },
   "file_extension": ".py",
   "mimetype": "text/x-python",
   "name": "python",
   "nbconvert_exporter": "python",
   "pygments_lexer": "ipython3",
   "version": "3.12.4"
  }
 },
 "nbformat": 4,
 "nbformat_minor": 2
}
