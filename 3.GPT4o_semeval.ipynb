{
 "cells": [
  {
   "cell_type": "code",
   "execution_count": null,
   "metadata": {
    "id": "TS9l5igubpHO"
   },
   "outputs": [],
   "source": [
    "import pandas as pd\n",
    "import os\n",
    "from openai import OpenAI\n",
    "import json\n",
    "\n",
    "# This code requires an OpenAI API key. Before proceeding, you can create one on the OpenAI platform and add it to the relevant field in the creds.json file we have provided.\n",
    "with open(\"creds.json\") as js:\n",
    "    api_key = json.load(js)['OPENAI_API_KEY']\n",
    "\n",
    "client = OpenAI(api_key=api_key)\n",
    "\n",
    "if not os.path.exists(\"predicted_labels/\"):\n",
    "    os.mkdir(\"predicted_labels/\")"
   ]
  },
  {
   "cell_type": "code",
   "execution_count": null,
   "metadata": {},
   "outputs": [],
   "source": [
    "prompt3=\"These statement contains a TARGET and a STANCE. The target is a politician and the stance represents the attitude expressed about them. The target options are Trump or Clinton and stance options are Favor, Against or None. Provide the answer in the following format: {TARGET, STANCE}\\n\\n\"\n",
    "test = pd.read_csv(\"data/semeval_test.csv\")\n",
    "train_100 = pd.read_csv(\"data/semeval_train_100.csv\")"
   ]
  },
  {
   "cell_type": "markdown",
   "metadata": {},
   "source": [
    "# Zero-shot"
   ]
  },
  {
   "cell_type": "code",
   "execution_count": null,
   "metadata": {},
   "outputs": [],
   "source": [
    "generated_output = []\n",
    "\n",
    "for comment in test.iterrows():\n",
    "    message = prompt3 + comment[1][\"prompt\"]\n",
    "    \n",
    "    completion = client.chat.completions.create(\n",
    "        model=\"gpt-4o\",\n",
    "        temperature=0,\n",
    "        messages=[\n",
    "            {\"role\": \"user\", \"content\": message}\n",
    "            ]\n",
    "        )\n",
    "    print(completion.choices[0].message)\n",
    "    generated_output.append(completion.choices[0].message.content)\n",
    "    \n",
    "test_preds = pd.concat([test, pd.DataFrame({\"preds\":generated_output})],axis=1)    \n",
    "test_preds.to_csv(\"predicted_labels/semeval_gpt4o_zero.csv\", index=False)"
   ]
  },
  {
   "cell_type": "markdown",
   "metadata": {},
   "source": [
    "# Few-shot"
   ]
  },
  {
   "cell_type": "code",
   "execution_count": null,
   "metadata": {},
   "outputs": [],
   "source": [
    "for i, eg in enumerate(train_100.iterrows()):\n",
    "    generated_output = []\n",
    "    \n",
    "    for comment in test.iterrows():\n",
    "        message = prompt3 + \"###\\n\" + eg[1][0]+ \"\\n###\\n\" + comment[1][\"prompt\"]\n",
    "\n",
    "        completion = client.chat.completions.create(\n",
    "            model=\"gpt-4o\",\n",
    "            temperature=0,\n",
    "            messages=[\n",
    "                {\"role\": \"user\", \"content\": message}\n",
    "                ]\n",
    "            )\n",
    "        print(completion.choices[0].message)\n",
    "        generated_output.append(completion.choices[0].message.content)\n",
    "        \n",
    "    test_preds = pd.concat([test, pd.DataFrame({\"preds\":generated_output})], axis=1)\n",
    "    test_preds.to_csv(f\"predicted_labels/semeval_gpt4o_one_eg_{i}.csv\", index=False)"
   ]
  }
 ],
 "metadata": {
  "colab": {
   "name": "python.ipynb",
   "provenance": [],
   "toc_visible": true
  },
  "google": {
   "image_path": "/static/site-assets/images/docs/logo-python.svg",
   "keywords": [
    "examples",
    "gemini",
    "beginner",
    "googleai",
    "quickstart",
    "python",
    "text",
    "chat",
    "vision",
    "embed"
   ]
  },
  "kernelspec": {
   "display_name": "hf",
   "language": "python",
   "name": "python3"
  },
  "language_info": {
   "codemirror_mode": {
    "name": "ipython",
    "version": 3
   },
   "file_extension": ".py",
   "mimetype": "text/x-python",
   "name": "python",
   "nbconvert_exporter": "python",
   "pygments_lexer": "ipython3",
   "version": "3.12.4"
  }
 },
 "nbformat": 4,
 "nbformat_minor": 0
}
