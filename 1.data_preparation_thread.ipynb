{
 "cells": [
  {
   "cell_type": "markdown",
   "metadata": {},
   "source": [
    "# Preparing JSON facebook comment threads for training"
   ]
  },
  {
   "cell_type": "code",
   "execution_count": 1,
   "metadata": {},
   "outputs": [],
   "source": [
    "import pandas as pd\n",
    "import glob\n",
    "import json\n",
    "\n",
    "PATH = \"data/original/facebook_thread/\""
   ]
  },
  {
   "cell_type": "markdown",
   "metadata": {},
   "source": [
    "## System prompt"
   ]
  },
  {
   "cell_type": "code",
   "execution_count": 2,
   "metadata": {},
   "outputs": [],
   "source": [
    "system_prompt = \"\"\"You will receive JSON inputs representing discussion threads from social media during the 2016 US Presidential election. Each thread includes a post, one comment about the post, and up to five replies to the comment. Your task is to identify the stance expressed towards two politicians, Donald Trump and Hillary Clinton, in the comment and each reply. Each text may express a stance towards one, both, or none of the politicians. You will always provide a stance towards each politician separately.\n",
    "\n",
    "Stance Options:\n",
    "\n",
    "    Support: Positive attitude towards the politician.\n",
    "    Oppose: Negative attitude towards the politician.\n",
    "    Neither: No clear stance or irrelevant content.\n",
    "\n",
    "Instructions:\n",
    "\n",
    "    - Identify the stance for Trump and Clinton in the comment and each reply using the stance options provided.\n",
    "    - Always provide a stance even if the content is offensive or ambiguous.\n",
    "    - There will be between zero and five replies to each comment. If there are fewer than five replies, provide stances for the available replies only.\n",
    "    \n",
    "Output Format: Strictly follow this JSON format. Replace the STANCE placeholder with the actual stance. Do not add any other tokens:\n",
    "\n",
    "\n",
    "{\n",
    "  \"comment\": {\n",
    "    \"stanceTrump\": \"STANCE\",\n",
    "    \"stanceClinton\": \"STANCE\"\n",
    "  },\n",
    "  \"replies\": [\n",
    "    {\n",
    "      \"reply_id\": 1,\n",
    "      \"stanceTrump\": \"STANCE\",\n",
    "      \"stanceClinton\": \"STANCE\"\n",
    "    },\n",
    "    {\n",
    "      \"reply_id\": 2,\n",
    "      \"stanceTrump\": \"STANCE\",\n",
    "      \"stanceClinton\": \"STANCE\"\n",
    "    },\n",
    "    ...\n",
    "  ]\n",
    "}\"\"\""
   ]
  },
  {
   "cell_type": "code",
   "execution_count": 3,
   "metadata": {},
   "outputs": [],
   "source": [
    "## Load train data\n",
    "# Thread\n",
    "train_thread = pd.DataFrame()\n",
    "for i in range(1,len(glob.glob(\"train/threads/*.json\", root_dir=PATH))+1):\n",
    "    with open(PATH+f\"train/threads/comment_thread_{i}.json\") as f:\n",
    "        thread = pd.DataFrame({\"thread\":[f.read()]})\n",
    "        train_thread = pd.concat([train_thread, thread], axis=0)\n",
    "train_thread = train_thread.reset_index(drop=True)\n",
    "\n",
    "# Stance label\n",
    "train_label = pd.DataFrame()\n",
    "for i in range(1,len(glob.glob(\"train/labels/*.json\", root_dir=PATH))+1):\n",
    "    with open(PATH+f\"train/labels/comment_thread_{i}.json\") as f:\n",
    "        label = pd.DataFrame({\"label\":[f.read()]})\n",
    "        train_label = pd.concat([train_label, label],axis=0)\n",
    "train_label = train_label.reset_index(drop=True)\n",
    "\n",
    "## Load test data\n",
    "# Thread\n",
    "test_thread = pd.DataFrame()\n",
    "for i in range(1,len(glob.glob(\"test/threads/*.json\", root_dir=PATH))+1):\n",
    "    with open(PATH+f\"test/threads/comment_thread_{i}.json\") as f:\n",
    "        thread = pd.DataFrame({\"thread\":[f.read()]})\n",
    "        test_thread = pd.concat([test_thread, thread], axis=0)\n",
    "test_thread = test_thread.reset_index(drop=True)\n",
    "test_thread.to_csv(\"data/thread_test.csv\", index=False)\n",
    "\n",
    "# Stance label\n",
    "test_label = pd.DataFrame()\n",
    "for i in range(1,len(glob.glob(\"test/labels/*.json\", root_dir=PATH))+1):\n",
    "    with open(PATH+f\"test/labels/comment_thread_{i}.json\") as f:\n",
    "        label = pd.DataFrame({\"label\":[f.read()]})\n",
    "        test_label = pd.concat([test_label, label],axis=0)\n",
    "test_label = test_label.reset_index(drop=True)"
   ]
  },
  {
   "cell_type": "code",
   "execution_count": 4,
   "metadata": {},
   "outputs": [],
   "source": [
    "train_texts = []\n",
    "for i in range(len(train_thread)):\n",
    "    messages = [\n",
    "        {\"role\": \"system\", \"content\": system_prompt},\n",
    "        {\"role\": \"user\", \"content\": train_thread.loc[i, \"thread\"]},\n",
    "        {\"role\": \"assistant\", \"content\": train_label.loc[i, \"label\"]},\n",
    "    ]\n",
    "    train_texts.append(messages)\n",
    "train_texts = pd.DataFrame({\"messages\":train_texts})\n",
    "train_texts.to_csv(\"data/thread_train_chat_texts.csv\", index=False)"
   ]
  },
  {
   "cell_type": "code",
   "execution_count": 5,
   "metadata": {},
   "outputs": [],
   "source": [
    "test_texts = []\n",
    "for i in range(len(test_thread)):\n",
    "    messages = [\n",
    "        {\"role\": \"system\", \"content\": system_prompt},\n",
    "        {\"role\": \"user\", \"content\": test_thread.loc[i, \"thread\"]}\n",
    "    ]\n",
    "    test_texts.append(messages)\n",
    "test_texts = pd.DataFrame({\"messages\":test_texts})\n",
    "test_texts.to_csv(\"data/thread_test_chat_texts.csv\", index=False)"
   ]
  },
  {
   "cell_type": "markdown",
   "metadata": {},
   "source": [
    "## Parse JSON and break out each comment and reply"
   ]
  },
  {
   "cell_type": "markdown",
   "metadata": {},
   "source": [
    "This file plays two roles: evaluation metric calculation and GPT-4o zero-shot baseline prediction"
   ]
  },
  {
   "cell_type": "code",
   "execution_count": 6,
   "metadata": {},
   "outputs": [],
   "source": [
    "test_cleaned = pd.DataFrame()\n",
    "for i in range(1,len(glob.glob(\"test/labels/*.json\", root_dir=PATH))+1):\n",
    "    with open(PATH+f\"test/threads/comment_thread_{i}.json\") as f:\n",
    "        thread = json.load(f)\n",
    "        comment = pd.DataFrame.from_dict([thread['comment']])\n",
    "        try:\n",
    "            reply = pd.DataFrame.from_dict(thread['replies'])    \n",
    "            thread_output = pd.concat([comment, reply],axis=0)\n",
    "        except KeyError:\n",
    "            thread_output = comment\n",
    "            \n",
    "        thread_output['post_id'] = i\n",
    "        thread_output = thread_output.reset_index(drop=True)\n",
    "    \n",
    "    with open(PATH+f\"test/labels/comment_thread_{i}.json\") as f:\n",
    "        thread = json.load(f)\n",
    "        comment = pd.DataFrame.from_dict([thread['comment']])\n",
    "        try:\n",
    "            reply = pd.DataFrame.from_dict(thread['replies']).rename(columns={\"reply_id\":\"reply_id_label\"})  \n",
    "            label_output = pd.concat([comment, reply],axis=0)\n",
    "        except KeyError:\n",
    "            label_output = pd.concat([comment],axis=0)\n",
    "        label_output['post_id_label'] = i\n",
    "        label_output = label_output.reset_index(drop=True)\n",
    "        \n",
    "    output = pd.concat([thread_output, label_output],axis=1)\n",
    "    test_cleaned = pd.concat([test_cleaned, output],axis=0)\n",
    "    \n",
    "test_cleaned[\"completion\"] = test_cleaned[\"stanceTrump\"]  + \", \" + test_cleaned[\"stanceClinton\"]\n",
    "test_cleaned = test_cleaned.reset_index(drop=True)\n",
    "test_cleaned[\"reply_id\"] = test_cleaned[\"reply_id\"].fillna(0)\n",
    "test_cleaned[\"reply_id_label\"] = test_cleaned[\"reply_id_label\"].fillna(0)\n",
    "test_cleaned.to_csv(\"data/thread_test_cleaned.csv\", index=False)"
   ]
  }
 ],
 "metadata": {
  "kernelspec": {
   "display_name": "hf",
   "language": "python",
   "name": "python3"
  },
  "language_info": {
   "codemirror_mode": {
    "name": "ipython",
    "version": 3
   },
   "file_extension": ".py",
   "mimetype": "text/x-python",
   "name": "python",
   "nbconvert_exporter": "python",
   "pygments_lexer": "ipython3",
   "version": "3.12.4"
  }
 },
 "nbformat": 4,
 "nbformat_minor": 2
}
