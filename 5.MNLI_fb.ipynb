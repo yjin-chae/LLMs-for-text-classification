{
 "cells": [
  {
   "cell_type": "code",
   "execution_count": null,
   "metadata": {},
   "outputs": [],
   "source": [
    "from transformers import AutoTokenizer, pipeline\n",
    "from transformers.pipelines.pt_utils import KeyDataset\n",
    "import datasets, pandas as pd\n",
    "\n",
    "target = \"MoritzLaurer/DeBERTa-v3-base-mnli-fever-anli\"\n",
    "tokenizer = AutoTokenizer.from_pretrained(target)"
   ]
  },
  {
   "cell_type": "code",
   "execution_count": null,
   "metadata": {},
   "outputs": [],
   "source": [
    "hypothesis_template = \"The stance of this comment {}.\"\n",
    "template = {\n",
    "    \"Favor, Against\":\"favors Trump and is against Clinton\",\n",
    "    \"Favor, None\":\"favors Trump and does not express any stance toward Clinton\",\n",
    "    \"Against, Favor\":\"is against Trump and favors Clinton\",\n",
    "    \"Against, Against\":\"is against Trump and against Clinton\",\n",
    "    \"Against, None\":\"is against Trump and does not express any stance toward Clinton\",\n",
    "    \"None, Favor\":\"does not express any stance toward Trump and favors Clinton\",\n",
    "    \"None, Against\":\"does not express any stance toward Trump and is against Clinton\",\n",
    "    \"None, None\":\"does not express stance toward Trump nor Clinton\"\n",
    "    }\n",
    "\n",
    "id2label = pd.DataFrame.from_dict(template, orient=\"index\").iloc[:,0]\n",
    "label2id = {v: k for k, v in id2label.items()}\n",
    "\n",
    "test = pd.read_csv(\"data/fb_test.csv\")\n",
    "test_ds = datasets.Dataset.from_pandas(test)"
   ]
  },
  {
   "cell_type": "code",
   "execution_count": null,
   "metadata": {},
   "outputs": [],
   "source": [
    "pipe = pipeline('zero-shot-classification',\n",
    "                model=target,\n",
    "                tokenizer=tokenizer)"
   ]
  },
  {
   "cell_type": "code",
   "execution_count": null,
   "metadata": {},
   "outputs": [],
   "source": [
    "preds = []\n",
    "for out in pipe(KeyDataset(test_ds, \"prompt\"), id2label.tolist(),\n",
    "        hypothesis_template=hypothesis_template,\n",
    "        multi_label=False,\n",
    "        batch_size=16):\n",
    "        preds.append(out[\"labels\"][0])\n",
    "test_preds = pd.concat([test, pd.DataFrame({\"preds\":preds}).replace(label2id, regex=True)], axis=1)\n",
    "test_preds.to_csv(f\"predicted_labels/fb_deberta_mnli.csv\", index=False)"
   ]
  }
 ],
 "metadata": {
  "kernelspec": {
   "display_name": "hf_transformers",
   "language": "python",
   "name": "python3"
  },
  "language_info": {
   "codemirror_mode": {
    "name": "ipython",
    "version": 3
   },
   "file_extension": ".py",
   "mimetype": "text/x-python",
   "name": "python",
   "nbconvert_exporter": "python",
   "pygments_lexer": "ipython3",
   "version": "3.12.4"
  }
 },
 "nbformat": 4,
 "nbformat_minor": 2
}
